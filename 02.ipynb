{
 "cells": [
  {
   "cell_type": "code",
   "execution_count": null,
   "metadata": {},
   "outputs": [],
   "source": [
    "import pandas as pd"
   ]
  },
  {
   "cell_type": "code",
   "execution_count": null,
   "metadata": {},
   "outputs": [],
   "source": [
    "#import data\n",
    "\n",
    "df = pd.read_csv(r'inputs/02/2.csv', names=['Reports'])"
   ]
  },
  {
   "cell_type": "code",
   "execution_count": 84,
   "metadata": {},
   "outputs": [
    {
     "data": {
      "text/html": [
       "<div>\n",
       "<style scoped>\n",
       "    .dataframe tbody tr th:only-of-type {\n",
       "        vertical-align: middle;\n",
       "    }\n",
       "\n",
       "    .dataframe tbody tr th {\n",
       "        vertical-align: top;\n",
       "    }\n",
       "\n",
       "    .dataframe thead th {\n",
       "        text-align: right;\n",
       "    }\n",
       "</style>\n",
       "<table border=\"1\" class=\"dataframe\">\n",
       "  <thead>\n",
       "    <tr style=\"text-align: right;\">\n",
       "      <th></th>\n",
       "      <th>Reports</th>\n",
       "    </tr>\n",
       "  </thead>\n",
       "  <tbody>\n",
       "    <tr>\n",
       "      <th>0</th>\n",
       "      <td>40 42 44 47 49 50 48</td>\n",
       "    </tr>\n",
       "    <tr>\n",
       "      <th>1</th>\n",
       "      <td>65 67 70 71 72 75 75</td>\n",
       "    </tr>\n",
       "    <tr>\n",
       "      <th>2</th>\n",
       "      <td>74 76 78 81 83 85 87 91</td>\n",
       "    </tr>\n",
       "    <tr>\n",
       "      <th>3</th>\n",
       "      <td>73 76 79 81 82 85 86 91</td>\n",
       "    </tr>\n",
       "    <tr>\n",
       "      <th>4</th>\n",
       "      <td>64 67 69 70 68 71 72</td>\n",
       "    </tr>\n",
       "  </tbody>\n",
       "</table>\n",
       "</div>"
      ],
      "text/plain": [
       "                   Reports\n",
       "0     40 42 44 47 49 50 48\n",
       "1     65 67 70 71 72 75 75\n",
       "2  74 76 78 81 83 85 87 91\n",
       "3  73 76 79 81 82 85 86 91\n",
       "4     64 67 69 70 68 71 72"
      ]
     },
     "execution_count": 84,
     "metadata": {},
     "output_type": "execute_result"
    }
   ],
   "source": [
    "df.head()"
   ]
  },
  {
   "cell_type": "code",
   "execution_count": null,
   "metadata": {},
   "outputs": [],
   "source": [
    "# move to list\n",
    "\n",
    "report_list = df['Reports'].to_list()"
   ]
  },
  {
   "cell_type": "code",
   "execution_count": null,
   "metadata": {},
   "outputs": [],
   "source": [
    "#split into elements for list of lists\n",
    "\n",
    "all_reports = []\n",
    "for i in report_list:\n",
    "    all_reports.append(i.split(\" \"))\n"
   ]
  },
  {
   "cell_type": "code",
   "execution_count": null,
   "metadata": {},
   "outputs": [],
   "source": [
    "safe_reps = []\n",
    "unsafe_reps = []\n",
    "\n",
    "#loops through reports to see if all elements are either ascending or descending, and if so, test whether all differences are less than 4\n",
    "\n",
    "for report in all_reports:\n",
    "    int_list = [int(i) for i in report]\n",
    "    asc = all(int_list[i] < int_list[i+1] for i in range(len(int_list) -1))\n",
    "    asc_norms = all(int_list[i+1] - int_list[i] < 4 for i in range(len(int_list) -1))\n",
    "    desc = all(int_list[i] > int_list[i+1] for i in range(len(int_list) -1))\n",
    "    desc_norms = all(int_list[i] - int_list[i+1] < 4 for i in range(len(int_list) -1))\n",
    "    if (asc and asc_norms) or (desc and desc_norms):\n",
    "        safe_reps.append(int_list)\n",
    "    else:\n",
    "        unsafe_reps.append(int_list)\n",
    "\n",
    "print(len(safe_reps))\n",
    "print(len(unsafe_reps))\n"
   ]
  },
  {
   "cell_type": "code",
   "execution_count": null,
   "metadata": {},
   "outputs": [],
   "source": [
    "## part 2 - each report can now be safe with a single element removed\n",
    "\n",
    "\n",
    "\n",
    "damp_reports = []\n",
    "for report in unsafe_reps:\n",
    "    for i in range(len(report)):\n",
    "        # loop through lenght of list - make a copy of original list and then pop each element incremenetally and apply same safety logic as before\n",
    "        new_rep = report.copy()\n",
    "        new_rep.pop(i)\n",
    "        print(new_rep)\n",
    "        asc = all(new_rep[i] < new_rep[i+1] for i in range(len(new_rep) -1))\n",
    "        asc_norms = all(new_rep[i+1] - new_rep[i] < 4 for i in range(len(new_rep) -1))\n",
    "        desc = all(new_rep[i] > new_rep[i+1] for i in range(len(new_rep) -1))\n",
    "        desc_norms = all(new_rep[i] - new_rep[i+1] < 4 for i in range(len(new_rep) -1))\n",
    "        if (asc and asc_norms) or (desc and desc_norms):\n",
    "            damp_reports.append(new_rep)\n",
    "            # added break to ensure each list only gets added once\n",
    "            break\n",
    "\n",
    "print(len(damp_reports))\n",
    "\n"
   ]
  },
  {
   "cell_type": "code",
   "execution_count": null,
   "metadata": {},
   "outputs": [],
   "source": [
    "# sums total of safe reports from part 1 and part 2\n",
    "\n",
    "total = len(damp_reports) + len(safe_reps)\n",
    "total"
   ]
  },
  {
   "cell_type": "code",
   "execution_count": null,
   "metadata": {},
   "outputs": [],
   "source": []
  }
 ],
 "metadata": {
  "kernelspec": {
   "display_name": "base",
   "language": "python",
   "name": "python3"
  },
  "language_info": {
   "codemirror_mode": {
    "name": "ipython",
    "version": 3
   },
   "file_extension": ".py",
   "mimetype": "text/x-python",
   "name": "python",
   "nbconvert_exporter": "python",
   "pygments_lexer": "ipython3",
   "version": "3.11.5"
  }
 },
 "nbformat": 4,
 "nbformat_minor": 2
}
