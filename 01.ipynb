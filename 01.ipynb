{
 "cells": [
  {
   "cell_type": "code",
   "execution_count": 16,
   "metadata": {},
   "outputs": [],
   "source": [
    "import pandas as pd"
   ]
  },
  {
   "cell_type": "code",
   "execution_count": 26,
   "metadata": {},
   "outputs": [],
   "source": [
    "# bang input into dataframe\n",
    "\n",
    "df = pd.read_csv(r'inputs//01//input.csv', names=['Entry'])\n"
   ]
  },
  {
   "cell_type": "code",
   "execution_count": 27,
   "metadata": {},
   "outputs": [
    {
     "data": {
      "text/html": [
       "<div>\n",
       "<style scoped>\n",
       "    .dataframe tbody tr th:only-of-type {\n",
       "        vertical-align: middle;\n",
       "    }\n",
       "\n",
       "    .dataframe tbody tr th {\n",
       "        vertical-align: top;\n",
       "    }\n",
       "\n",
       "    .dataframe thead th {\n",
       "        text-align: right;\n",
       "    }\n",
       "</style>\n",
       "<table border=\"1\" class=\"dataframe\">\n",
       "  <thead>\n",
       "    <tr style=\"text-align: right;\">\n",
       "      <th></th>\n",
       "      <th>Entry</th>\n",
       "    </tr>\n",
       "  </thead>\n",
       "  <tbody>\n",
       "    <tr>\n",
       "      <th>0</th>\n",
       "      <td>77442   88154</td>\n",
       "    </tr>\n",
       "    <tr>\n",
       "      <th>1</th>\n",
       "      <td>71181   76363</td>\n",
       "    </tr>\n",
       "    <tr>\n",
       "      <th>2</th>\n",
       "      <td>49755   69158</td>\n",
       "    </tr>\n",
       "    <tr>\n",
       "      <th>3</th>\n",
       "      <td>38798   22488</td>\n",
       "    </tr>\n",
       "    <tr>\n",
       "      <th>4</th>\n",
       "      <td>89857   49242</td>\n",
       "    </tr>\n",
       "    <tr>\n",
       "      <th>5</th>\n",
       "      <td>96168   60034</td>\n",
       "    </tr>\n",
       "    <tr>\n",
       "      <th>6</th>\n",
       "      <td>68503   43760</td>\n",
       "    </tr>\n",
       "    <tr>\n",
       "      <th>7</th>\n",
       "      <td>52053   29173</td>\n",
       "    </tr>\n",
       "    <tr>\n",
       "      <th>8</th>\n",
       "      <td>27070   63754</td>\n",
       "    </tr>\n",
       "    <tr>\n",
       "      <th>9</th>\n",
       "      <td>78107   13305</td>\n",
       "    </tr>\n",
       "  </tbody>\n",
       "</table>\n",
       "</div>"
      ],
      "text/plain": [
       "           Entry\n",
       "0  77442   88154\n",
       "1  71181   76363\n",
       "2  49755   69158\n",
       "3  38798   22488\n",
       "4  89857   49242\n",
       "5  96168   60034\n",
       "6  68503   43760\n",
       "7  52053   29173\n",
       "8  27070   63754\n",
       "9  78107   13305"
      ]
     },
     "execution_count": 27,
     "metadata": {},
     "output_type": "execute_result"
    }
   ],
   "source": [
    "df.head(10)"
   ]
  },
  {
   "cell_type": "code",
   "execution_count": 28,
   "metadata": {},
   "outputs": [],
   "source": [
    "# split each row out into two separate parts\n",
    "\n",
    "df['A'] = df['Entry'].apply(lambda x: x.split(\" \")[0].strip())\n",
    "df['B'] = df['Entry'].apply(lambda x: x.split(\" \")[-1].strip())"
   ]
  },
  {
   "cell_type": "code",
   "execution_count": 29,
   "metadata": {},
   "outputs": [],
   "source": [
    "# create lists for holding each part\n",
    "\n",
    "a_list = df['A'].to_list()\n",
    "b_list = df['B'].to_list()"
   ]
  },
  {
   "cell_type": "code",
   "execution_count": 30,
   "metadata": {},
   "outputs": [],
   "source": [
    "# convert list from string to integers\n",
    "\n",
    "a_list_int = [int(i) for i in a_list]\n",
    "b_list_int = [int(i) for i in b_list]"
   ]
  },
  {
   "cell_type": "code",
   "execution_count": 31,
   "metadata": {},
   "outputs": [],
   "source": [
    "# sort lists numerically\n",
    "\n",
    "a_list_int.sort()\n",
    "b_list_int.sort()"
   ]
  },
  {
   "cell_type": "code",
   "execution_count": 32,
   "metadata": {},
   "outputs": [
    {
     "data": {
      "text/plain": [
       "2176849"
      ]
     },
     "execution_count": 32,
     "metadata": {},
     "output_type": "execute_result"
    }
   ],
   "source": [
    "# set up counter\n",
    "\n",
    "count_diffs = 0\n",
    "\n",
    "# set loop based on length of lists\n",
    "for i in range(len(a_list_int)):\n",
    "\n",
    "    # calculate single diff\n",
    "    diff = a_list_int[i] - b_list_int[i]\n",
    "\n",
    "    #check if diff is positive and add to counter, if neg, make it positive before adding\n",
    "    if diff >= 0:\n",
    "        count_diffs += diff\n",
    "    else:\n",
    "        pos_diff = diff*(-1)\n",
    "        count_diffs += pos_diff\n",
    "    \n",
    "#final diffs\n",
    "count_diffs\n"
   ]
  },
  {
   "cell_type": "code",
   "execution_count": 37,
   "metadata": {},
   "outputs": [],
   "source": [
    "# chall 2 - calculat similarity score by multiplying each value in left list by the number of times it appears in the right list\n",
    "\n",
    "# set var for score capture\n",
    "similarity_scores = 0\n",
    "\n",
    "\n",
    "# loop through one list to grab each element\n",
    "for a_index in range(len(a_list_int)):\n",
    "\n",
    "    # loop through each element of second list\n",
    "    for b_index in range(len(b_list_int)):\n",
    "\n",
    "        # set var to capture how many appearences\n",
    "        b_count = 0\n",
    "\n",
    "        #iterate count each time list 2 element equals list 1 element\n",
    "        if b_list_int[b_index] == a_list_int[a_index]:\n",
    "            b_count += 1\n",
    "        else:\n",
    "            continue\n",
    "\n",
    "        # multiply the list 1 item by the number of times it appears in list 2\n",
    "        single_score = a_list_int[a_index]*b_count\n",
    "\n",
    "        # add each single item score to the total score count\n",
    "        similarity_scores += single_score\n",
    "\n"
   ]
  },
  {
   "cell_type": "code",
   "execution_count": 38,
   "metadata": {},
   "outputs": [
    {
     "data": {
      "text/plain": [
       "23384288"
      ]
     },
     "execution_count": 38,
     "metadata": {},
     "output_type": "execute_result"
    }
   ],
   "source": [
    "similarity_scores"
   ]
  }
 ],
 "metadata": {
  "kernelspec": {
   "display_name": "base",
   "language": "python",
   "name": "python3"
  },
  "language_info": {
   "codemirror_mode": {
    "name": "ipython",
    "version": 3
   },
   "file_extension": ".py",
   "mimetype": "text/x-python",
   "name": "python",
   "nbconvert_exporter": "python",
   "pygments_lexer": "ipython3",
   "version": "3.11.5"
  }
 },
 "nbformat": 4,
 "nbformat_minor": 2
}
