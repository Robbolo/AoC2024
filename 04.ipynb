{
 "cells": [
  {
   "cell_type": "code",
   "execution_count": 127,
   "metadata": {},
   "outputs": [],
   "source": [
    "def find_horizontal(string):\n",
    "    forwards = 0\n",
    "    backwards = 0\n",
    "    for i in range(len(string)-3):\n",
    "        if string[i:i+4] == 'XMAS':\n",
    "            forwards += 1\n",
    "        elif string[i:i+4] == 'SAMX':\n",
    "            backwards += 1\n",
    "    return forwards + backwards"
   ]
  },
  {
   "cell_type": "code",
   "execution_count": null,
   "metadata": {},
   "outputs": [],
   "source": [
    "\n",
    "def find_vertical(i,lines):\n",
    "    count = 0\n",
    "    if i > len(lines)-4:\n",
    "        pass\n",
    "    else:\n",
    "        for col in range(len(lines[0])):\n",
    "            string = lines[i][col]+lines[i+1][col]+lines[i+2][col]+lines[i+3][col]\n",
    "            if string == 'XMAS' or string == 'SAMX':\n",
    "                count += 1\n",
    "\n",
    "    return count"
   ]
  },
  {
   "cell_type": "code",
   "execution_count": null,
   "metadata": {},
   "outputs": [],
   "source": [
    "def find_diagonal(i, lines):\n",
    "    count = 0\n",
    "    if i > len(lines)-4:\n",
    "        return 0\n",
    "    else:\n",
    "        for col in range(len(lines[0])-3):\n",
    "            string1 = lines[i][col]+lines[i+1][col+1]+lines[i+2][col+2]+lines[i+3][col+3]\n",
    "            if string1 == 'XMAS' or string1 =='SAMX':\n",
    "                count += 1\n",
    "        for col in range(len(lines[0])):\n",
    "            if col >= 3:\n",
    "                string2 = lines[i][col]+lines[i+1][col-1]+lines[i+2][col-2]+lines[i+3][col-3]\n",
    "                if string2 == 'XMAS' or string2 =='SAMX':\n",
    "                    count += 1\n",
    "            else:\n",
    "                string2 = ''  \n",
    "\n",
    "\n",
    "    return count"
   ]
  },
  {
   "cell_type": "code",
   "execution_count": null,
   "metadata": {},
   "outputs": [
    {
     "name": "stdout",
     "output_type": "stream",
     "text": [
      "2458\n"
     ]
    }
   ],
   "source": [
    "horizontal = 0\n",
    "vert_count = 0\n",
    "diag_count = 0\n",
    "\n",
    "with open('inputs/4.txt','r') as file:\n",
    "    lines = [line.strip() for line in file.readlines()]\n",
    "    for i in range(len(lines)):\n",
    "        vert_count += find_vertical(i,lines)\n",
    "        diag_count += find_diagonal(i,lines)\n",
    "    for line in lines:\n",
    "        horizontal += find_horizontal(line)\n",
    "\n",
    "print(horizontal + vert_count + diag_count)\n"
   ]
  },
  {
   "cell_type": "code",
   "execution_count": 151,
   "metadata": {},
   "outputs": [],
   "source": [
    "def find_mas(i,lines):\n",
    "    count = 0\n",
    "    if i > len(lines)-2:\n",
    "        return 0\n",
    "    else:\n",
    "        for col in range(1,len(lines[0])-1):\n",
    "            string1 = lines[i-1][col-1]+lines[i][col]+lines[i+1][col+1]\n",
    "            string2 = lines[i-1][col+1]+lines[i][col]+lines[i+1][col-1]\n",
    "            if (string1 == 'MAS' or string1 =='SAM') and (string2 == 'MAS' or string2 =='SAM') :\n",
    "                count += 1\n",
    "\n",
    "    return count"
   ]
  },
  {
   "cell_type": "code",
   "execution_count": 152,
   "metadata": {},
   "outputs": [
    {
     "name": "stdout",
     "output_type": "stream",
     "text": [
      "1945\n"
     ]
    }
   ],
   "source": [
    "# part 2\n",
    "mas_count = 0\n",
    "\n",
    "with open('inputs/4.txt','r') as file:\n",
    "    lines = [line.strip() for line in file.readlines()]\n",
    "    for i in range(1,len(lines)):\n",
    "        mas_count += find_mas(i,lines)\n",
    "\n",
    "print(mas_count)\n",
    "\n"
   ]
  }
 ],
 "metadata": {
  "kernelspec": {
   "display_name": "base",
   "language": "python",
   "name": "python3"
  },
  "language_info": {
   "codemirror_mode": {
    "name": "ipython",
    "version": 3
   },
   "file_extension": ".py",
   "mimetype": "text/x-python",
   "name": "python",
   "nbconvert_exporter": "python",
   "pygments_lexer": "ipython3",
   "version": "3.11.5"
  }
 },
 "nbformat": 4,
 "nbformat_minor": 2
}
