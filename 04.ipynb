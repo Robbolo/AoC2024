{
 "cells": [
  {
   "cell_type": "code",
   "execution_count": 15,
   "metadata": {},
   "outputs": [],
   "source": [
    "def find_horizontal(string):\n",
    "    forwards = 0\n",
    "    backwards = 0\n",
    "    for i in range(len(string)):\n",
    "        if string[i:i+4] == 'XMAS':\n",
    "            forwards += 1\n",
    "        elif string[i:i+4] == 'SAMX':\n",
    "            backwards += 1\n",
    "        else:\n",
    "            pass\n",
    "    return forwards + backwards"
   ]
  },
  {
   "cell_type": "code",
   "execution_count": 17,
   "metadata": {},
   "outputs": [
    {
     "name": "stdout",
     "output_type": "stream",
     "text": [
      "391\n"
     ]
    }
   ],
   "source": [
    "horizontal = 0\n",
    "\n",
    "line_count = 0\n",
    "with open('inputs/4.txt','r') as file:\n",
    "    for line in file:\n",
    "        horizontal += find_horizontal(line)\n",
    "print(horizontal)\n",
    "        \n",
    "        \n",
    "\n",
    "\n"
   ]
  },
  {
   "cell_type": "code",
   "execution_count": null,
   "metadata": {},
   "outputs": [],
   "source": []
  }
 ],
 "metadata": {
  "kernelspec": {
   "display_name": "base",
   "language": "python",
   "name": "python3"
  },
  "language_info": {
   "codemirror_mode": {
    "name": "ipython",
    "version": 3
   },
   "file_extension": ".py",
   "mimetype": "text/x-python",
   "name": "python",
   "nbconvert_exporter": "python",
   "pygments_lexer": "ipython3",
   "version": "3.11.5"
  }
 },
 "nbformat": 4,
 "nbformat_minor": 2
}
