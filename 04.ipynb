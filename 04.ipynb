{
 "cells": [
  {
   "cell_type": "code",
   "execution_count": 65,
   "metadata": {},
   "outputs": [],
   "source": [
    "def find_horizontal(string):\n",
    "    forwards = 0\n",
    "    backwards = 0\n",
    "    for i in range(len(string)-3):\n",
    "        if string[i:i+4] == 'XMAS':\n",
    "            forwards += 1\n",
    "        elif string[i:i+4] == 'SAMX':\n",
    "            backwards += 1\n",
    "        else:\n",
    "            pass\n",
    "    return forwards + backwards"
   ]
  },
  {
   "cell_type": "code",
   "execution_count": 96,
   "metadata": {},
   "outputs": [],
   "source": [
    "\n",
    "def find_vertical(i,lines):\n",
    "    count = 0\n",
    "    if i > len(lines)-4:\n",
    "        return 0\n",
    "    else:\n",
    "        for col in range(len(lines[0])):\n",
    "            try:\n",
    "                string = lines[i][col]+lines[i+1][col]+lines[i+2][col]+lines[i+3][col]\n",
    "                if string == 'XMAS' or string == 'SAMX':\n",
    "                    count += 1\n",
    "            except IndexError:\n",
    "                pass\n",
    "\n",
    "    return count\n",
    "\n",
    "    "
   ]
  },
  {
   "cell_type": "code",
   "execution_count": null,
   "metadata": {},
   "outputs": [],
   "source": [
    "def find_diagonal(i, lines):\n",
    "    count = 0\n",
    "    if i > len(lines)-4:\n",
    "        return 0\n",
    "    else:\n",
    "        for col in range(len(lines[0])-3):\n",
    "            try:\n",
    "                string1 = lines[i][col]+lines[i+1][col+1]+lines[i+2][col+2]+lines[i+3][col+3]\n",
    "                if col >= 3:\n",
    "                    string2 = lines[i][col]+lines[i+1][col-1]+lines[i+2][col-2]+lines[i+3][col-3]\n",
    "                else:\n",
    "                    string2 == ''    \n",
    "            except IndexError:\n",
    "                pass\n",
    "            if string1 == 'XMAS' or string1 =='SAMX':\n",
    "                count += 1\n",
    "            elif string2 == 'XMAS' or string2 =='SAMX':\n",
    "                count += 1\n",
    "\n",
    "\n",
    "    return count"
   ]
  },
  {
   "cell_type": "code",
   "execution_count": 97,
   "metadata": {},
   "outputs": [
    {
     "ename": "UnboundLocalError",
     "evalue": "cannot access local variable 'string2' where it is not associated with a value",
     "output_type": "error",
     "traceback": [
      "\u001b[1;31m---------------------------------------------------------------------------\u001b[0m",
      "\u001b[1;31mUnboundLocalError\u001b[0m                         Traceback (most recent call last)",
      "Cell \u001b[1;32mIn[97], line 9\u001b[0m\n\u001b[0;32m      7\u001b[0m \u001b[38;5;28;01mfor\u001b[39;00m i \u001b[38;5;129;01min\u001b[39;00m \u001b[38;5;28mrange\u001b[39m(\u001b[38;5;28mlen\u001b[39m(lines)):\n\u001b[0;32m      8\u001b[0m     vert_count \u001b[38;5;241m+\u001b[39m\u001b[38;5;241m=\u001b[39m find_vertical(i,lines)\n\u001b[1;32m----> 9\u001b[0m     diag_count \u001b[38;5;241m+\u001b[39m\u001b[38;5;241m=\u001b[39m find_diagonal(i,lines)\n\u001b[0;32m     10\u001b[0m \u001b[38;5;28;01mfor\u001b[39;00m line \u001b[38;5;129;01min\u001b[39;00m lines:\n\u001b[0;32m     11\u001b[0m     horizontal \u001b[38;5;241m+\u001b[39m\u001b[38;5;241m=\u001b[39m find_horizontal(line)\n",
      "Cell \u001b[1;32mIn[95], line 15\u001b[0m, in \u001b[0;36mfind_diagonal\u001b[1;34m(i, lines)\u001b[0m\n\u001b[0;32m     13\u001b[0m         \u001b[38;5;28;01mif\u001b[39;00m string1 \u001b[38;5;241m==\u001b[39m \u001b[38;5;124m'\u001b[39m\u001b[38;5;124mXMAS\u001b[39m\u001b[38;5;124m'\u001b[39m \u001b[38;5;129;01mor\u001b[39;00m string1 \u001b[38;5;241m==\u001b[39m\u001b[38;5;124m'\u001b[39m\u001b[38;5;124mSAMX\u001b[39m\u001b[38;5;124m'\u001b[39m:\n\u001b[0;32m     14\u001b[0m             count \u001b[38;5;241m+\u001b[39m\u001b[38;5;241m=\u001b[39m \u001b[38;5;241m1\u001b[39m\n\u001b[1;32m---> 15\u001b[0m         \u001b[38;5;28;01melif\u001b[39;00m string2 \u001b[38;5;241m==\u001b[39m \u001b[38;5;124m'\u001b[39m\u001b[38;5;124mXMAS\u001b[39m\u001b[38;5;124m'\u001b[39m \u001b[38;5;129;01mor\u001b[39;00m string2 \u001b[38;5;241m==\u001b[39m\u001b[38;5;124m'\u001b[39m\u001b[38;5;124mSAMX\u001b[39m\u001b[38;5;124m'\u001b[39m:\n\u001b[0;32m     16\u001b[0m             count \u001b[38;5;241m+\u001b[39m\u001b[38;5;241m=\u001b[39m \u001b[38;5;241m1\u001b[39m\n\u001b[0;32m     19\u001b[0m \u001b[38;5;28;01mreturn\u001b[39;00m count\n",
      "\u001b[1;31mUnboundLocalError\u001b[0m: cannot access local variable 'string2' where it is not associated with a value"
     ]
    }
   ],
   "source": [
    "horizontal = 0\n",
    "vert_count = 0\n",
    "diag_count = 0\n",
    "\n",
    "with open('inputs/4.txt','r') as file:\n",
    "    lines = [line.strip() for line in file.readlines()]\n",
    "    for i in range(len(lines)):\n",
    "        vert_count += find_vertical(i,lines)\n",
    "        diag_count += find_diagonal(i,lines)\n",
    "    for line in lines:\n",
    "        horizontal += find_horizontal(line)\n",
    "\n",
    "print(horizontal)\n",
    "print(vert_count)\n",
    "print(diag_count)\n",
    "print(horizontal + vert_count + diag_count)\n",
    "\n",
    "\n",
    "        \n",
    "        \n",
    "\n",
    "\n"
   ]
  },
  {
   "cell_type": "code",
   "execution_count": null,
   "metadata": {},
   "outputs": [],
   "source": []
  }
 ],
 "metadata": {
  "kernelspec": {
   "display_name": "base",
   "language": "python",
   "name": "python3"
  },
  "language_info": {
   "codemirror_mode": {
    "name": "ipython",
    "version": 3
   },
   "file_extension": ".py",
   "mimetype": "text/x-python",
   "name": "python",
   "nbconvert_exporter": "python",
   "pygments_lexer": "ipython3",
   "version": "3.11.5"
  }
 },
 "nbformat": 4,
 "nbformat_minor": 2
}
