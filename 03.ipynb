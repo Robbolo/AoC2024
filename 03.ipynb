{
 "cells": [
  {
   "cell_type": "code",
   "execution_count": 45,
   "metadata": {},
   "outputs": [],
   "source": [
    "import re"
   ]
  },
  {
   "cell_type": "code",
   "execution_count": null,
   "metadata": {},
   "outputs": [
    {
     "name": "stdout",
     "output_type": "stream",
     "text": [
      "189600467\n"
     ]
    }
   ],
   "source": [
    "# part 1\n",
    "\n",
    "# create var for stashing results\n",
    "total = 0\n",
    "\n",
    "# read in text file\n",
    "with open('inputs/3.txt', 'r') as file:\n",
    "\n",
    "    # loop through each line in the file\n",
    "    for line in file:\n",
    "        # regex patern for identifying relevant puzzle components\n",
    "        pattern = r'mul\\(\\d{1,3},\\d{1,3}\\)'\n",
    "        # use pattern to stash results in list\n",
    "        matches = re.findall(pattern,line)\n",
    "        #iterate through list of puzles\n",
    "        for mul in matches:\n",
    "            # find and extract the relevant numbers from the puzzle\n",
    "            brac1 = mul.find('(')\n",
    "            comma = mul.find(',')\n",
    "            brac2 = mul.find(')')\n",
    "            # perform multiplication as per instructions\n",
    "            mult = int(mul[brac1+1:comma])*int(mul[comma+1:brac2])\n",
    "            # add result back into capture var\n",
    "            total += mult\n",
    "\n",
    "print(total)"
   ]
  },
  {
   "cell_type": "code",
   "execution_count": null,
   "metadata": {},
   "outputs": [
    {
     "name": "stdout",
     "output_type": "stream",
     "text": [
      "107069718\n"
     ]
    }
   ],
   "source": [
    "#part 2\n",
    "\n",
    "total = 0\n",
    "with open('inputs/3.txt', 'r') as file:\n",
    "    # set active flag to true to start capturing puzzles from start (outside loop prevents newlines from resetting active flag)\n",
    "    active = True\n",
    "    for line in file:\n",
    "        pattern = r'mul\\(\\d{1,3},\\d{1,3}\\)'\n",
    "        # split the line out based on the start/stop signal\n",
    "        chunks = re.split(r'(do\\(\\)|don\\'t\\(\\))', line)\n",
    "        # iterature through chunks, if start/stop detected, change the active state\n",
    "        for chunk in chunks:\n",
    "            if chunk == \"don't()\":\n",
    "                active = False\n",
    "            elif chunk == 'do()':\n",
    "                active = True\n",
    "            # if the state is active - perform the code from part 1 to identify and solve the puzzles\n",
    "            elif active == True:\n",
    "                matches = re.findall(pattern,chunk)\n",
    "                for mul in matches:\n",
    "                    brac1 = mul.find('(')\n",
    "                    comma = mul.find(',')\n",
    "                    brac2 = mul.find(')')\n",
    "                    mult = int(mul[brac1+1:comma])*int(mul[comma+1:brac2])\n",
    "                    total += mult\n",
    "print(total)\n"
   ]
  },
  {
   "cell_type": "code",
   "execution_count": null,
   "metadata": {},
   "outputs": [],
   "source": []
  }
 ],
 "metadata": {
  "kernelspec": {
   "display_name": "base",
   "language": "python",
   "name": "python3"
  },
  "language_info": {
   "codemirror_mode": {
    "name": "ipython",
    "version": 3
   },
   "file_extension": ".py",
   "mimetype": "text/x-python",
   "name": "python",
   "nbconvert_exporter": "python",
   "pygments_lexer": "ipython3",
   "version": "3.11.5"
  }
 },
 "nbformat": 4,
 "nbformat_minor": 2
}
