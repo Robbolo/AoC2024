{
 "cells": [
  {
   "cell_type": "code",
   "execution_count": 1,
   "metadata": {},
   "outputs": [],
   "source": [
    "from itertools import permutations"
   ]
  },
  {
   "cell_type": "code",
   "execution_count": 2,
   "metadata": {},
   "outputs": [],
   "source": [
    "with open('inputs/test5.txt', 'r') as file:\n",
    "    lines = [line.strip() for line in file.readlines()]\n",
    "    rules = [line for line in lines if '|' in line]\n",
    "    orders = [line for line in lines if ',' in line]\n",
    "    orders_list = [order.split(',') for order in orders]"
   ]
  },
  {
   "cell_type": "code",
   "execution_count": 3,
   "metadata": {},
   "outputs": [],
   "source": [
    "def find_middles(passed_list):\n",
    "    length = len(passed_list)\n",
    "    half = int(length/2)\n",
    "    return passed_list[half]\n"
   ]
  },
  {
   "cell_type": "code",
   "execution_count": 4,
   "metadata": {},
   "outputs": [],
   "source": [
    "def apply_rules(order):\n",
    "    rule_req = 0\n",
    "    rule_passed = 0\n",
    "    for rule in rules:\n",
    "        come_first = rule[:2]\n",
    "        come_second = rule[-2:]\n",
    "        if come_first in order and come_second in order: \n",
    "            rule_req +=1\n",
    "            if order.index(come_first) < order.index(come_second):\n",
    "                rule_passed += 1\n",
    "    if rule_passed == rule_req:\n",
    "        return find_middles(order)\n",
    "    else:\n",
    "        return(order)"
   ]
  },
  {
   "cell_type": "code",
   "execution_count": 5,
   "metadata": {},
   "outputs": [
    {
     "data": {
      "text/plain": [
       "(143,\n",
       " [['75', '97', '47', '61', '53'],\n",
       "  ['61', '13', '29'],\n",
       "  ['97', '13', '75', '29', '47']])"
      ]
     },
     "execution_count": 5,
     "metadata": {},
     "output_type": "execute_result"
    }
   ],
   "source": [
    "def main_1():\n",
    "    score = 0\n",
    "    failed = []\n",
    "    for order in orders_list:\n",
    "        middle = apply_rules(order)\n",
    "        if type(middle) == str:\n",
    "            score += int(middle)\n",
    "        elif type(middle) == list:\n",
    "            failed.append(middle)\n",
    "    return score, failed\n",
    "\n",
    "main_1()\n"
   ]
  },
  {
   "cell_type": "code",
   "execution_count": 6,
   "metadata": {},
   "outputs": [],
   "source": [
    "# part 2 motherfuck goddamn memory errors \n",
    "\n",
    "        "
   ]
  },
  {
   "cell_type": "code",
   "execution_count": 7,
   "metadata": {},
   "outputs": [],
   "source": [
    "def try_again(failed_order):\n",
    "    multiverse = list(permutations(failed_order))\n",
    "    for multi in multiverse:\n",
    "        multi_list = list(multi)\n",
    "        middle = apply_rules(multi_list)\n",
    "        try:\n",
    "            return int(middle)\n",
    "        except TypeError:\n",
    "            pass\n"
   ]
  },
  {
   "cell_type": "code",
   "execution_count": null,
   "metadata": {},
   "outputs": [
    {
     "name": "stdout",
     "output_type": "stream",
     "text": [
      "123\n"
     ]
    }
   ],
   "source": [
    "# works on example, memory errors on full input - code technically works?!?!\n",
    "\n",
    "def main_2():\n",
    "    score = 0\n",
    "    for i in range(len(main_1()[1])):\n",
    "        single_fail =  main_1()[1][i]\n",
    "        score += try_again(single_fail)\n",
    "    print(score)\n",
    "\n",
    "main_2()"
   ]
  },
  {
   "cell_type": "code",
   "execution_count": null,
   "metadata": {},
   "outputs": [],
   "source": []
  },
  {
   "cell_type": "code",
   "execution_count": null,
   "metadata": {},
   "outputs": [],
   "source": []
  }
 ],
 "metadata": {
  "kernelspec": {
   "display_name": "base",
   "language": "python",
   "name": "python3"
  },
  "language_info": {
   "codemirror_mode": {
    "name": "ipython",
    "version": 3
   },
   "file_extension": ".py",
   "mimetype": "text/x-python",
   "name": "python",
   "nbconvert_exporter": "python",
   "pygments_lexer": "ipython3",
   "version": "3.11.5"
  }
 },
 "nbformat": 4,
 "nbformat_minor": 2
}
