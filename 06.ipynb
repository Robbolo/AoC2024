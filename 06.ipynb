{
 "cells": [
  {
   "cell_type": "code",
   "execution_count": 202,
   "metadata": {},
   "outputs": [],
   "source": [
    "with open('inputs/6.txt', 'r') as file:\n",
    "    list_map = [line.strip() for line in file.readlines()]"
   ]
  },
  {
   "cell_type": "code",
   "execution_count": 203,
   "metadata": {},
   "outputs": [],
   "source": [
    "list_map_elements = [list(i) for i in list_map]"
   ]
  },
  {
   "cell_type": "code",
   "execution_count": 204,
   "metadata": {},
   "outputs": [],
   "source": [
    "def find_next():\n",
    "    for i in range(len(list_map_elements)):\n",
    "        now = []\n",
    "        next=[]\n",
    "        if '^' in list_map_elements[i]:\n",
    "            guard = '^'\n",
    "            now.append(i)\n",
    "            next.append(i-1)\n",
    "            now.append(list_map_elements[i].index('^'))\n",
    "            next.append(list_map_elements[i].index('^'))\n",
    "            return now, next, guard\n",
    "        elif 'v' in list_map_elements[i]:\n",
    "            guard = 'v'\n",
    "            now.append(i)\n",
    "            next.append(i+1)\n",
    "            now.append(list_map_elements[i].index('v'))\n",
    "            next.append(list_map_elements[i].index('v'))\n",
    "            return now, next, guard\n",
    "        elif '>' in list_map_elements[i]:\n",
    "            guard = '>'\n",
    "            now.append(i)\n",
    "            next.append(i)\n",
    "            now.append(list_map_elements[i].index('>'))\n",
    "            next.append(list_map_elements[i].index('>')+1)\n",
    "            return now, next, guard\n",
    "        elif '<' in list_map_elements[i]:\n",
    "            guard = '<'\n",
    "            now.append(i)\n",
    "            next.append(i)\n",
    "            now.append(list_map_elements[i].index('<'))\n",
    "            next.append(list_map_elements[i].index('<')-1)\n",
    "            return now, next, guard"
   ]
  },
  {
   "cell_type": "code",
   "execution_count": 205,
   "metadata": {},
   "outputs": [],
   "source": [
    "def turn_guard(find_next):\n",
    "    cur = find_next[0]\n",
    "    dir = find_next[2]\n",
    "    if dir == '^':\n",
    "        list_map_elements[cur[0]][cur[1]] ='>'\n",
    "    elif dir == 'v':\n",
    "        list_map_elements[cur[0]][cur[1]] ='<'\n",
    "    elif dir == '<':\n",
    "        list_map_elements[cur[0]][cur[1]] ='^'\n",
    "    elif dir == '>':\n",
    "        list_map_elements[cur[0]][cur[1]] ='v'\n",
    "    \n",
    "\n",
    "    "
   ]
  },
  {
   "cell_type": "code",
   "execution_count": 206,
   "metadata": {},
   "outputs": [],
   "source": [
    "def move_guard(find_next):\n",
    "    cur = find_next[0]\n",
    "    dir = find_next[2]\n",
    "    next = find_next[1]\n",
    "    list_map_elements[cur[0]][cur[1]] = 'X'\n",
    "    list_map_elements[next[0]][next[1]] = dir"
   ]
  },
  {
   "cell_type": "code",
   "execution_count": 207,
   "metadata": {},
   "outputs": [],
   "source": [
    "def guard_exit(find_next):\n",
    "    next = find_next[1]\n",
    "    cur = find_next[0]\n",
    "    if next[0] < 0 or next[1] < 0:\n",
    "        list_map_elements[cur[0]][cur[1]] = 'X'\n",
    "        return True\n",
    "    else:\n",
    "        return False"
   ]
  },
  {
   "cell_type": "code",
   "execution_count": 214,
   "metadata": {},
   "outputs": [],
   "source": [
    "def check_next(find_next):\n",
    "    if guard_exit(find_next) == False:\n",
    "        if list_map_elements[find_next[1][0]][find_next[1][1]] == '#':\n",
    "            turn_guard(find_next)\n",
    "        else:\n",
    "            move_guard(find_next)"
   ]
  },
  {
   "cell_type": "code",
   "execution_count": null,
   "metadata": {},
   "outputs": [],
   "source": [
    "for x in range(10000):\n",
    "    try:\n",
    "        check_next(find_next())\n",
    "    except TypeError:\n",
    "        break"
   ]
  },
  {
   "cell_type": "code",
   "execution_count": 219,
   "metadata": {},
   "outputs": [
    {
     "name": "stdout",
     "output_type": "stream",
     "text": [
      "5239\n"
     ]
    }
   ],
   "source": [
    "num_x = 0\n",
    "for line in list_map_elements:\n",
    "    num_x += line.count('X')\n",
    "print(num_x)"
   ]
  },
  {
   "cell_type": "code",
   "execution_count": 221,
   "metadata": {},
   "outputs": [],
   "source": [
    "import csv\n",
    "\n",
    "with open(\"outputs/out6.csv\", \"w\") as f:\n",
    "    wr = csv.writer(f,delimiter=' ')\n",
    "    wr.writerows(list_map_elements)"
   ]
  }
 ],
 "metadata": {
  "kernelspec": {
   "display_name": "base",
   "language": "python",
   "name": "python3"
  },
  "language_info": {
   "codemirror_mode": {
    "name": "ipython",
    "version": 3
   },
   "file_extension": ".py",
   "mimetype": "text/x-python",
   "name": "python",
   "nbconvert_exporter": "python",
   "pygments_lexer": "ipython3",
   "version": "3.11.5"
  }
 },
 "nbformat": 4,
 "nbformat_minor": 2
}
